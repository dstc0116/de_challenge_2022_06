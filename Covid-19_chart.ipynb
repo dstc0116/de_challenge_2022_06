{
 "cells": [
  {
   "cell_type": "code",
   "execution_count": 2,
   "metadata": {},
   "outputs": [],
   "source": [
    "import pandas as pd\n",
    "import json \n",
    "import requests "
   ]
  },
  {
   "cell_type": "code",
   "execution_count": 46,
   "metadata": {},
   "outputs": [
    {
     "data": {
      "text/html": [
       "<div>\n",
       "<style scoped>\n",
       "    .dataframe tbody tr th:only-of-type {\n",
       "        vertical-align: middle;\n",
       "    }\n",
       "\n",
       "    .dataframe tbody tr th {\n",
       "        vertical-align: top;\n",
       "    }\n",
       "\n",
       "    .dataframe thead th {\n",
       "        text-align: right;\n",
       "    }\n",
       "</style>\n",
       "<table border=\"1\" class=\"dataframe\">\n",
       "  <thead>\n",
       "    <tr style=\"text-align: right;\">\n",
       "      <th></th>\n",
       "      <th>ID</th>\n",
       "      <th>Country</th>\n",
       "      <th>CountryCode</th>\n",
       "      <th>Province</th>\n",
       "      <th>City</th>\n",
       "      <th>CityCode</th>\n",
       "      <th>Lat</th>\n",
       "      <th>Lon</th>\n",
       "      <th>Confirmed</th>\n",
       "      <th>Deaths</th>\n",
       "      <th>Recovered</th>\n",
       "      <th>Active</th>\n",
       "      <th>Date</th>\n",
       "    </tr>\n",
       "  </thead>\n",
       "  <tbody>\n",
       "    <tr>\n",
       "      <th>0</th>\n",
       "      <td>62bee7b3-b021-4c99-817b-e5f4419d0718</td>\n",
       "      <td>Singapore</td>\n",
       "      <td>SG</td>\n",
       "      <td></td>\n",
       "      <td></td>\n",
       "      <td></td>\n",
       "      <td>1.35</td>\n",
       "      <td>103.82</td>\n",
       "      <td>106</td>\n",
       "      <td>0</td>\n",
       "      <td>72</td>\n",
       "      <td>34</td>\n",
       "      <td>2020-03-01T00:00:00Z</td>\n",
       "    </tr>\n",
       "    <tr>\n",
       "      <th>1</th>\n",
       "      <td>8858c1a5-34c6-4d6b-a76c-58697f3956b5</td>\n",
       "      <td>Singapore</td>\n",
       "      <td>SG</td>\n",
       "      <td></td>\n",
       "      <td></td>\n",
       "      <td></td>\n",
       "      <td>1.35</td>\n",
       "      <td>103.82</td>\n",
       "      <td>108</td>\n",
       "      <td>0</td>\n",
       "      <td>78</td>\n",
       "      <td>30</td>\n",
       "      <td>2020-03-02T00:00:00Z</td>\n",
       "    </tr>\n",
       "    <tr>\n",
       "      <th>2</th>\n",
       "      <td>629c546c-dfc6-439f-b5f6-68a6f9684ae7</td>\n",
       "      <td>Singapore</td>\n",
       "      <td>SG</td>\n",
       "      <td></td>\n",
       "      <td></td>\n",
       "      <td></td>\n",
       "      <td>1.35</td>\n",
       "      <td>103.82</td>\n",
       "      <td>110</td>\n",
       "      <td>0</td>\n",
       "      <td>78</td>\n",
       "      <td>32</td>\n",
       "      <td>2020-03-03T00:00:00Z</td>\n",
       "    </tr>\n",
       "    <tr>\n",
       "      <th>3</th>\n",
       "      <td>9b45a7f1-11e0-4077-8c22-b8b81ac8b086</td>\n",
       "      <td>Singapore</td>\n",
       "      <td>SG</td>\n",
       "      <td></td>\n",
       "      <td></td>\n",
       "      <td></td>\n",
       "      <td>1.35</td>\n",
       "      <td>103.82</td>\n",
       "      <td>110</td>\n",
       "      <td>0</td>\n",
       "      <td>78</td>\n",
       "      <td>32</td>\n",
       "      <td>2020-03-04T00:00:00Z</td>\n",
       "    </tr>\n",
       "    <tr>\n",
       "      <th>4</th>\n",
       "      <td>bf8cf402-f4b4-4bb6-9b9d-7f26f2c77db9</td>\n",
       "      <td>Singapore</td>\n",
       "      <td>SG</td>\n",
       "      <td></td>\n",
       "      <td></td>\n",
       "      <td></td>\n",
       "      <td>1.35</td>\n",
       "      <td>103.82</td>\n",
       "      <td>117</td>\n",
       "      <td>0</td>\n",
       "      <td>78</td>\n",
       "      <td>39</td>\n",
       "      <td>2020-03-05T00:00:00Z</td>\n",
       "    </tr>\n",
       "  </tbody>\n",
       "</table>\n",
       "</div>"
      ],
      "text/plain": [
       "                                     ID    Country CountryCode Province City  \\\n",
       "0  62bee7b3-b021-4c99-817b-e5f4419d0718  Singapore          SG                 \n",
       "1  8858c1a5-34c6-4d6b-a76c-58697f3956b5  Singapore          SG                 \n",
       "2  629c546c-dfc6-439f-b5f6-68a6f9684ae7  Singapore          SG                 \n",
       "3  9b45a7f1-11e0-4077-8c22-b8b81ac8b086  Singapore          SG                 \n",
       "4  bf8cf402-f4b4-4bb6-9b9d-7f26f2c77db9  Singapore          SG                 \n",
       "\n",
       "  CityCode   Lat     Lon  Confirmed  Deaths  Recovered  Active  \\\n",
       "0           1.35  103.82        106       0         72      34   \n",
       "1           1.35  103.82        108       0         78      30   \n",
       "2           1.35  103.82        110       0         78      32   \n",
       "3           1.35  103.82        110       0         78      32   \n",
       "4           1.35  103.82        117       0         78      39   \n",
       "\n",
       "                   Date  \n",
       "0  2020-03-01T00:00:00Z  \n",
       "1  2020-03-02T00:00:00Z  \n",
       "2  2020-03-03T00:00:00Z  \n",
       "3  2020-03-04T00:00:00Z  \n",
       "4  2020-03-05T00:00:00Z  "
      ]
     },
     "execution_count": 46,
     "metadata": {},
     "output_type": "execute_result"
    }
   ],
   "source": [
    "link = 'https://api.covid19api.com/country/singapore?from=2020-03-01T00:00:00Z&to=2020-04-01T00:00:00Z'\n",
    "r = requests.get(link)\n",
    "x = r.json()\n",
    "df = pd.DataFrame(x)\n",
    "df.head()"
   ]
  },
  {
   "cell_type": "code",
   "execution_count": 40,
   "metadata": {},
   "outputs": [
    {
     "data": {
      "text/html": [
       "<div>\n",
       "<style scoped>\n",
       "    .dataframe tbody tr th:only-of-type {\n",
       "        vertical-align: middle;\n",
       "    }\n",
       "\n",
       "    .dataframe tbody tr th {\n",
       "        vertical-align: top;\n",
       "    }\n",
       "\n",
       "    .dataframe thead th {\n",
       "        text-align: right;\n",
       "    }\n",
       "</style>\n",
       "<table border=\"1\" class=\"dataframe\">\n",
       "  <thead>\n",
       "    <tr style=\"text-align: right;\">\n",
       "      <th></th>\n",
       "      <th>Country</th>\n",
       "      <th>Date</th>\n",
       "      <th>Status</th>\n",
       "      <th>Case</th>\n",
       "    </tr>\n",
       "  </thead>\n",
       "  <tbody>\n",
       "    <tr>\n",
       "      <th>0</th>\n",
       "      <td>Singapore</td>\n",
       "      <td>2020-03-01T00:00:00Z</td>\n",
       "      <td>Confirmed</td>\n",
       "      <td>106</td>\n",
       "    </tr>\n",
       "    <tr>\n",
       "      <th>1</th>\n",
       "      <td>Singapore</td>\n",
       "      <td>2020-03-01T00:00:00Z</td>\n",
       "      <td>Deaths</td>\n",
       "      <td>0</td>\n",
       "    </tr>\n",
       "    <tr>\n",
       "      <th>2</th>\n",
       "      <td>Singapore</td>\n",
       "      <td>2020-03-01T00:00:00Z</td>\n",
       "      <td>Recovered</td>\n",
       "      <td>72</td>\n",
       "    </tr>\n",
       "    <tr>\n",
       "      <th>3</th>\n",
       "      <td>Singapore</td>\n",
       "      <td>2020-03-01T00:00:00Z</td>\n",
       "      <td>Active</td>\n",
       "      <td>34</td>\n",
       "    </tr>\n",
       "    <tr>\n",
       "      <th>4</th>\n",
       "      <td>Singapore</td>\n",
       "      <td>2020-03-02T00:00:00Z</td>\n",
       "      <td>Confirmed</td>\n",
       "      <td>108</td>\n",
       "    </tr>\n",
       "    <tr>\n",
       "      <th>...</th>\n",
       "      <td>...</td>\n",
       "      <td>...</td>\n",
       "      <td>...</td>\n",
       "      <td>...</td>\n",
       "    </tr>\n",
       "    <tr>\n",
       "      <th>123</th>\n",
       "      <td>Singapore</td>\n",
       "      <td>2020-03-31T00:00:00Z</td>\n",
       "      <td>Active</td>\n",
       "      <td>683</td>\n",
       "    </tr>\n",
       "    <tr>\n",
       "      <th>124</th>\n",
       "      <td>Singapore</td>\n",
       "      <td>2020-04-01T00:00:00Z</td>\n",
       "      <td>Confirmed</td>\n",
       "      <td>1000</td>\n",
       "    </tr>\n",
       "    <tr>\n",
       "      <th>125</th>\n",
       "      <td>Singapore</td>\n",
       "      <td>2020-04-01T00:00:00Z</td>\n",
       "      <td>Deaths</td>\n",
       "      <td>3</td>\n",
       "    </tr>\n",
       "    <tr>\n",
       "      <th>126</th>\n",
       "      <td>Singapore</td>\n",
       "      <td>2020-04-01T00:00:00Z</td>\n",
       "      <td>Recovered</td>\n",
       "      <td>245</td>\n",
       "    </tr>\n",
       "    <tr>\n",
       "      <th>127</th>\n",
       "      <td>Singapore</td>\n",
       "      <td>2020-04-01T00:00:00Z</td>\n",
       "      <td>Active</td>\n",
       "      <td>752</td>\n",
       "    </tr>\n",
       "  </tbody>\n",
       "</table>\n",
       "<p>128 rows × 4 columns</p>\n",
       "</div>"
      ],
      "text/plain": [
       "       Country                  Date     Status  Case\n",
       "0    Singapore  2020-03-01T00:00:00Z  Confirmed   106\n",
       "1    Singapore  2020-03-01T00:00:00Z     Deaths     0\n",
       "2    Singapore  2020-03-01T00:00:00Z  Recovered    72\n",
       "3    Singapore  2020-03-01T00:00:00Z     Active    34\n",
       "4    Singapore  2020-03-02T00:00:00Z  Confirmed   108\n",
       "..         ...                   ...        ...   ...\n",
       "123  Singapore  2020-03-31T00:00:00Z     Active   683\n",
       "124  Singapore  2020-04-01T00:00:00Z  Confirmed  1000\n",
       "125  Singapore  2020-04-01T00:00:00Z     Deaths     3\n",
       "126  Singapore  2020-04-01T00:00:00Z  Recovered   245\n",
       "127  Singapore  2020-04-01T00:00:00Z     Active   752\n",
       "\n",
       "[128 rows x 4 columns]"
      ]
     },
     "execution_count": 40,
     "metadata": {},
     "output_type": "execute_result"
    }
   ],
   "source": [
    "df = df[['Country','Date','Confirmed','Deaths','Recovered','Active']]\n",
    "df = df.set_index(['Country','Date']).stack().reset_index().rename(columns={\"level_2\": \"Status\", 0: \"Case\"})\n",
    "df"
   ]
  },
  {
   "cell_type": "code",
   "execution_count": 45,
   "metadata": {},
   "outputs": [
    {
     "data": {
      "application/vnd.plotly.v1+json": {
       "config": {
        "plotlyServerURL": "https://plot.ly"
       },
       "data": [
        {
         "alignmentgroup": "True",
         "bingroup": "x",
         "histfunc": "sum",
         "hovertemplate": "Status=Confirmed<br>Date=%{x}<br>sum of Case=%{y}<extra></extra>",
         "legendgroup": "Confirmed",
         "marker": {
          "color": "#636efa",
          "opacity": 0.75,
          "pattern": {
           "shape": ""
          }
         },
         "name": "Confirmed",
         "offsetgroup": "Confirmed",
         "orientation": "v",
         "showlegend": true,
         "textangle": 0,
         "textfont": {
          "size": 13
         },
         "textposition": "inside",
         "texttemplate": "%{value}",
         "type": "histogram",
         "x": [
          "2020-03-01T00:00:00Z",
          "2020-03-02T00:00:00Z",
          "2020-03-03T00:00:00Z",
          "2020-03-04T00:00:00Z",
          "2020-03-05T00:00:00Z",
          "2020-03-06T00:00:00Z",
          "2020-03-07T00:00:00Z",
          "2020-03-08T00:00:00Z",
          "2020-03-09T00:00:00Z",
          "2020-03-10T00:00:00Z",
          "2020-03-11T00:00:00Z",
          "2020-03-12T00:00:00Z",
          "2020-03-13T00:00:00Z",
          "2020-03-14T00:00:00Z",
          "2020-03-15T00:00:00Z",
          "2020-03-16T00:00:00Z",
          "2020-03-17T00:00:00Z",
          "2020-03-18T00:00:00Z",
          "2020-03-19T00:00:00Z",
          "2020-03-20T00:00:00Z",
          "2020-03-21T00:00:00Z",
          "2020-03-22T00:00:00Z",
          "2020-03-23T00:00:00Z",
          "2020-03-24T00:00:00Z",
          "2020-03-25T00:00:00Z",
          "2020-03-26T00:00:00Z",
          "2020-03-27T00:00:00Z",
          "2020-03-28T00:00:00Z",
          "2020-03-29T00:00:00Z",
          "2020-03-30T00:00:00Z",
          "2020-03-31T00:00:00Z",
          "2020-04-01T00:00:00Z"
         ],
         "xaxis": "x",
         "y": [
          106,
          108,
          110,
          110,
          117,
          130,
          138,
          150,
          150,
          160,
          178,
          178,
          200,
          212,
          226,
          243,
          266,
          313,
          345,
          385,
          432,
          455,
          509,
          558,
          631,
          683,
          732,
          802,
          844,
          879,
          926,
          1000
         ],
         "yaxis": "y"
        },
        {
         "alignmentgroup": "True",
         "bingroup": "x",
         "histfunc": "sum",
         "hovertemplate": "Status=Deaths<br>Date=%{x}<br>sum of Case=%{y}<extra></extra>",
         "legendgroup": "Deaths",
         "marker": {
          "color": "#EF553B",
          "opacity": 0.75,
          "pattern": {
           "shape": ""
          }
         },
         "name": "Deaths",
         "offsetgroup": "Deaths",
         "orientation": "v",
         "showlegend": true,
         "textangle": 0,
         "textfont": {
          "size": 13
         },
         "textposition": "inside",
         "texttemplate": "%{value}",
         "type": "histogram",
         "x": [
          "2020-03-01T00:00:00Z",
          "2020-03-02T00:00:00Z",
          "2020-03-03T00:00:00Z",
          "2020-03-04T00:00:00Z",
          "2020-03-05T00:00:00Z",
          "2020-03-06T00:00:00Z",
          "2020-03-07T00:00:00Z",
          "2020-03-08T00:00:00Z",
          "2020-03-09T00:00:00Z",
          "2020-03-10T00:00:00Z",
          "2020-03-11T00:00:00Z",
          "2020-03-12T00:00:00Z",
          "2020-03-13T00:00:00Z",
          "2020-03-14T00:00:00Z",
          "2020-03-15T00:00:00Z",
          "2020-03-16T00:00:00Z",
          "2020-03-17T00:00:00Z",
          "2020-03-18T00:00:00Z",
          "2020-03-19T00:00:00Z",
          "2020-03-20T00:00:00Z",
          "2020-03-21T00:00:00Z",
          "2020-03-22T00:00:00Z",
          "2020-03-23T00:00:00Z",
          "2020-03-24T00:00:00Z",
          "2020-03-25T00:00:00Z",
          "2020-03-26T00:00:00Z",
          "2020-03-27T00:00:00Z",
          "2020-03-28T00:00:00Z",
          "2020-03-29T00:00:00Z",
          "2020-03-30T00:00:00Z",
          "2020-03-31T00:00:00Z",
          "2020-04-01T00:00:00Z"
         ],
         "xaxis": "x",
         "y": [
          0,
          0,
          0,
          0,
          0,
          0,
          0,
          0,
          0,
          0,
          0,
          0,
          0,
          0,
          0,
          0,
          0,
          0,
          0,
          0,
          2,
          2,
          2,
          2,
          2,
          2,
          2,
          2,
          3,
          3,
          3,
          3
         ],
         "yaxis": "y"
        },
        {
         "alignmentgroup": "True",
         "bingroup": "x",
         "histfunc": "sum",
         "hovertemplate": "Status=Recovered<br>Date=%{x}<br>sum of Case=%{y}<extra></extra>",
         "legendgroup": "Recovered",
         "marker": {
          "color": "#00cc96",
          "opacity": 0.75,
          "pattern": {
           "shape": ""
          }
         },
         "name": "Recovered",
         "offsetgroup": "Recovered",
         "orientation": "v",
         "showlegend": true,
         "textangle": 0,
         "textfont": {
          "size": 13
         },
         "textposition": "inside",
         "texttemplate": "%{value}",
         "type": "histogram",
         "x": [
          "2020-03-01T00:00:00Z",
          "2020-03-02T00:00:00Z",
          "2020-03-03T00:00:00Z",
          "2020-03-04T00:00:00Z",
          "2020-03-05T00:00:00Z",
          "2020-03-06T00:00:00Z",
          "2020-03-07T00:00:00Z",
          "2020-03-08T00:00:00Z",
          "2020-03-09T00:00:00Z",
          "2020-03-10T00:00:00Z",
          "2020-03-11T00:00:00Z",
          "2020-03-12T00:00:00Z",
          "2020-03-13T00:00:00Z",
          "2020-03-14T00:00:00Z",
          "2020-03-15T00:00:00Z",
          "2020-03-16T00:00:00Z",
          "2020-03-17T00:00:00Z",
          "2020-03-18T00:00:00Z",
          "2020-03-19T00:00:00Z",
          "2020-03-20T00:00:00Z",
          "2020-03-21T00:00:00Z",
          "2020-03-22T00:00:00Z",
          "2020-03-23T00:00:00Z",
          "2020-03-24T00:00:00Z",
          "2020-03-25T00:00:00Z",
          "2020-03-26T00:00:00Z",
          "2020-03-27T00:00:00Z",
          "2020-03-28T00:00:00Z",
          "2020-03-29T00:00:00Z",
          "2020-03-30T00:00:00Z",
          "2020-03-31T00:00:00Z",
          "2020-04-01T00:00:00Z"
         ],
         "xaxis": "x",
         "y": [
          72,
          78,
          78,
          78,
          78,
          78,
          78,
          78,
          78,
          78,
          96,
          96,
          97,
          105,
          105,
          109,
          114,
          114,
          114,
          124,
          140,
          144,
          144,
          156,
          160,
          172,
          183,
          198,
          212,
          228,
          240,
          245
         ],
         "yaxis": "y"
        },
        {
         "alignmentgroup": "True",
         "bingroup": "x",
         "histfunc": "sum",
         "hovertemplate": "Status=Active<br>Date=%{x}<br>sum of Case=%{y}<extra></extra>",
         "legendgroup": "Active",
         "marker": {
          "color": "#ab63fa",
          "opacity": 0.75,
          "pattern": {
           "shape": ""
          }
         },
         "name": "Active",
         "offsetgroup": "Active",
         "orientation": "v",
         "showlegend": true,
         "textangle": 0,
         "textfont": {
          "size": 13
         },
         "textposition": "inside",
         "texttemplate": "%{value}",
         "type": "histogram",
         "x": [
          "2020-03-01T00:00:00Z",
          "2020-03-02T00:00:00Z",
          "2020-03-03T00:00:00Z",
          "2020-03-04T00:00:00Z",
          "2020-03-05T00:00:00Z",
          "2020-03-06T00:00:00Z",
          "2020-03-07T00:00:00Z",
          "2020-03-08T00:00:00Z",
          "2020-03-09T00:00:00Z",
          "2020-03-10T00:00:00Z",
          "2020-03-11T00:00:00Z",
          "2020-03-12T00:00:00Z",
          "2020-03-13T00:00:00Z",
          "2020-03-14T00:00:00Z",
          "2020-03-15T00:00:00Z",
          "2020-03-16T00:00:00Z",
          "2020-03-17T00:00:00Z",
          "2020-03-18T00:00:00Z",
          "2020-03-19T00:00:00Z",
          "2020-03-20T00:00:00Z",
          "2020-03-21T00:00:00Z",
          "2020-03-22T00:00:00Z",
          "2020-03-23T00:00:00Z",
          "2020-03-24T00:00:00Z",
          "2020-03-25T00:00:00Z",
          "2020-03-26T00:00:00Z",
          "2020-03-27T00:00:00Z",
          "2020-03-28T00:00:00Z",
          "2020-03-29T00:00:00Z",
          "2020-03-30T00:00:00Z",
          "2020-03-31T00:00:00Z",
          "2020-04-01T00:00:00Z"
         ],
         "xaxis": "x",
         "y": [
          34,
          30,
          32,
          32,
          39,
          52,
          60,
          72,
          72,
          82,
          82,
          82,
          103,
          107,
          121,
          134,
          152,
          199,
          231,
          261,
          290,
          309,
          363,
          400,
          469,
          509,
          547,
          602,
          629,
          648,
          683,
          752
         ],
         "yaxis": "y"
        }
       ],
       "layout": {
        "barmode": "group",
        "height": 500,
        "legend": {
         "title": {
          "text": "Cases"
         },
         "tracegroupgap": 0
        },
        "template": {
         "data": {
          "bar": [
           {
            "error_x": {
             "color": "#2a3f5f"
            },
            "error_y": {
             "color": "#2a3f5f"
            },
            "marker": {
             "line": {
              "color": "#E5ECF6",
              "width": 0.5
             },
             "pattern": {
              "fillmode": "overlay",
              "size": 10,
              "solidity": 0.2
             }
            },
            "type": "bar"
           }
          ],
          "barpolar": [
           {
            "marker": {
             "line": {
              "color": "#E5ECF6",
              "width": 0.5
             },
             "pattern": {
              "fillmode": "overlay",
              "size": 10,
              "solidity": 0.2
             }
            },
            "type": "barpolar"
           }
          ],
          "carpet": [
           {
            "aaxis": {
             "endlinecolor": "#2a3f5f",
             "gridcolor": "white",
             "linecolor": "white",
             "minorgridcolor": "white",
             "startlinecolor": "#2a3f5f"
            },
            "baxis": {
             "endlinecolor": "#2a3f5f",
             "gridcolor": "white",
             "linecolor": "white",
             "minorgridcolor": "white",
             "startlinecolor": "#2a3f5f"
            },
            "type": "carpet"
           }
          ],
          "choropleth": [
           {
            "colorbar": {
             "outlinewidth": 0,
             "ticks": ""
            },
            "type": "choropleth"
           }
          ],
          "contour": [
           {
            "colorbar": {
             "outlinewidth": 0,
             "ticks": ""
            },
            "colorscale": [
             [
              0,
              "#0d0887"
             ],
             [
              0.1111111111111111,
              "#46039f"
             ],
             [
              0.2222222222222222,
              "#7201a8"
             ],
             [
              0.3333333333333333,
              "#9c179e"
             ],
             [
              0.4444444444444444,
              "#bd3786"
             ],
             [
              0.5555555555555556,
              "#d8576b"
             ],
             [
              0.6666666666666666,
              "#ed7953"
             ],
             [
              0.7777777777777778,
              "#fb9f3a"
             ],
             [
              0.8888888888888888,
              "#fdca26"
             ],
             [
              1,
              "#f0f921"
             ]
            ],
            "type": "contour"
           }
          ],
          "contourcarpet": [
           {
            "colorbar": {
             "outlinewidth": 0,
             "ticks": ""
            },
            "type": "contourcarpet"
           }
          ],
          "heatmap": [
           {
            "colorbar": {
             "outlinewidth": 0,
             "ticks": ""
            },
            "colorscale": [
             [
              0,
              "#0d0887"
             ],
             [
              0.1111111111111111,
              "#46039f"
             ],
             [
              0.2222222222222222,
              "#7201a8"
             ],
             [
              0.3333333333333333,
              "#9c179e"
             ],
             [
              0.4444444444444444,
              "#bd3786"
             ],
             [
              0.5555555555555556,
              "#d8576b"
             ],
             [
              0.6666666666666666,
              "#ed7953"
             ],
             [
              0.7777777777777778,
              "#fb9f3a"
             ],
             [
              0.8888888888888888,
              "#fdca26"
             ],
             [
              1,
              "#f0f921"
             ]
            ],
            "type": "heatmap"
           }
          ],
          "heatmapgl": [
           {
            "colorbar": {
             "outlinewidth": 0,
             "ticks": ""
            },
            "colorscale": [
             [
              0,
              "#0d0887"
             ],
             [
              0.1111111111111111,
              "#46039f"
             ],
             [
              0.2222222222222222,
              "#7201a8"
             ],
             [
              0.3333333333333333,
              "#9c179e"
             ],
             [
              0.4444444444444444,
              "#bd3786"
             ],
             [
              0.5555555555555556,
              "#d8576b"
             ],
             [
              0.6666666666666666,
              "#ed7953"
             ],
             [
              0.7777777777777778,
              "#fb9f3a"
             ],
             [
              0.8888888888888888,
              "#fdca26"
             ],
             [
              1,
              "#f0f921"
             ]
            ],
            "type": "heatmapgl"
           }
          ],
          "histogram": [
           {
            "marker": {
             "pattern": {
              "fillmode": "overlay",
              "size": 10,
              "solidity": 0.2
             }
            },
            "type": "histogram"
           }
          ],
          "histogram2d": [
           {
            "colorbar": {
             "outlinewidth": 0,
             "ticks": ""
            },
            "colorscale": [
             [
              0,
              "#0d0887"
             ],
             [
              0.1111111111111111,
              "#46039f"
             ],
             [
              0.2222222222222222,
              "#7201a8"
             ],
             [
              0.3333333333333333,
              "#9c179e"
             ],
             [
              0.4444444444444444,
              "#bd3786"
             ],
             [
              0.5555555555555556,
              "#d8576b"
             ],
             [
              0.6666666666666666,
              "#ed7953"
             ],
             [
              0.7777777777777778,
              "#fb9f3a"
             ],
             [
              0.8888888888888888,
              "#fdca26"
             ],
             [
              1,
              "#f0f921"
             ]
            ],
            "type": "histogram2d"
           }
          ],
          "histogram2dcontour": [
           {
            "colorbar": {
             "outlinewidth": 0,
             "ticks": ""
            },
            "colorscale": [
             [
              0,
              "#0d0887"
             ],
             [
              0.1111111111111111,
              "#46039f"
             ],
             [
              0.2222222222222222,
              "#7201a8"
             ],
             [
              0.3333333333333333,
              "#9c179e"
             ],
             [
              0.4444444444444444,
              "#bd3786"
             ],
             [
              0.5555555555555556,
              "#d8576b"
             ],
             [
              0.6666666666666666,
              "#ed7953"
             ],
             [
              0.7777777777777778,
              "#fb9f3a"
             ],
             [
              0.8888888888888888,
              "#fdca26"
             ],
             [
              1,
              "#f0f921"
             ]
            ],
            "type": "histogram2dcontour"
           }
          ],
          "mesh3d": [
           {
            "colorbar": {
             "outlinewidth": 0,
             "ticks": ""
            },
            "type": "mesh3d"
           }
          ],
          "parcoords": [
           {
            "line": {
             "colorbar": {
              "outlinewidth": 0,
              "ticks": ""
             }
            },
            "type": "parcoords"
           }
          ],
          "pie": [
           {
            "automargin": true,
            "type": "pie"
           }
          ],
          "scatter": [
           {
            "marker": {
             "colorbar": {
              "outlinewidth": 0,
              "ticks": ""
             }
            },
            "type": "scatter"
           }
          ],
          "scatter3d": [
           {
            "line": {
             "colorbar": {
              "outlinewidth": 0,
              "ticks": ""
             }
            },
            "marker": {
             "colorbar": {
              "outlinewidth": 0,
              "ticks": ""
             }
            },
            "type": "scatter3d"
           }
          ],
          "scattercarpet": [
           {
            "marker": {
             "colorbar": {
              "outlinewidth": 0,
              "ticks": ""
             }
            },
            "type": "scattercarpet"
           }
          ],
          "scattergeo": [
           {
            "marker": {
             "colorbar": {
              "outlinewidth": 0,
              "ticks": ""
             }
            },
            "type": "scattergeo"
           }
          ],
          "scattergl": [
           {
            "marker": {
             "colorbar": {
              "outlinewidth": 0,
              "ticks": ""
             }
            },
            "type": "scattergl"
           }
          ],
          "scattermapbox": [
           {
            "marker": {
             "colorbar": {
              "outlinewidth": 0,
              "ticks": ""
             }
            },
            "type": "scattermapbox"
           }
          ],
          "scatterpolar": [
           {
            "marker": {
             "colorbar": {
              "outlinewidth": 0,
              "ticks": ""
             }
            },
            "type": "scatterpolar"
           }
          ],
          "scatterpolargl": [
           {
            "marker": {
             "colorbar": {
              "outlinewidth": 0,
              "ticks": ""
             }
            },
            "type": "scatterpolargl"
           }
          ],
          "scatterternary": [
           {
            "marker": {
             "colorbar": {
              "outlinewidth": 0,
              "ticks": ""
             }
            },
            "type": "scatterternary"
           }
          ],
          "surface": [
           {
            "colorbar": {
             "outlinewidth": 0,
             "ticks": ""
            },
            "colorscale": [
             [
              0,
              "#0d0887"
             ],
             [
              0.1111111111111111,
              "#46039f"
             ],
             [
              0.2222222222222222,
              "#7201a8"
             ],
             [
              0.3333333333333333,
              "#9c179e"
             ],
             [
              0.4444444444444444,
              "#bd3786"
             ],
             [
              0.5555555555555556,
              "#d8576b"
             ],
             [
              0.6666666666666666,
              "#ed7953"
             ],
             [
              0.7777777777777778,
              "#fb9f3a"
             ],
             [
              0.8888888888888888,
              "#fdca26"
             ],
             [
              1,
              "#f0f921"
             ]
            ],
            "type": "surface"
           }
          ],
          "table": [
           {
            "cells": {
             "fill": {
              "color": "#EBF0F8"
             },
             "line": {
              "color": "white"
             }
            },
            "header": {
             "fill": {
              "color": "#C8D4E3"
             },
             "line": {
              "color": "white"
             }
            },
            "type": "table"
           }
          ]
         },
         "layout": {
          "annotationdefaults": {
           "arrowcolor": "#2a3f5f",
           "arrowhead": 0,
           "arrowwidth": 1
          },
          "autotypenumbers": "strict",
          "coloraxis": {
           "colorbar": {
            "outlinewidth": 0,
            "ticks": ""
           }
          },
          "colorscale": {
           "diverging": [
            [
             0,
             "#8e0152"
            ],
            [
             0.1,
             "#c51b7d"
            ],
            [
             0.2,
             "#de77ae"
            ],
            [
             0.3,
             "#f1b6da"
            ],
            [
             0.4,
             "#fde0ef"
            ],
            [
             0.5,
             "#f7f7f7"
            ],
            [
             0.6,
             "#e6f5d0"
            ],
            [
             0.7,
             "#b8e186"
            ],
            [
             0.8,
             "#7fbc41"
            ],
            [
             0.9,
             "#4d9221"
            ],
            [
             1,
             "#276419"
            ]
           ],
           "sequential": [
            [
             0,
             "#0d0887"
            ],
            [
             0.1111111111111111,
             "#46039f"
            ],
            [
             0.2222222222222222,
             "#7201a8"
            ],
            [
             0.3333333333333333,
             "#9c179e"
            ],
            [
             0.4444444444444444,
             "#bd3786"
            ],
            [
             0.5555555555555556,
             "#d8576b"
            ],
            [
             0.6666666666666666,
             "#ed7953"
            ],
            [
             0.7777777777777778,
             "#fb9f3a"
            ],
            [
             0.8888888888888888,
             "#fdca26"
            ],
            [
             1,
             "#f0f921"
            ]
           ],
           "sequentialminus": [
            [
             0,
             "#0d0887"
            ],
            [
             0.1111111111111111,
             "#46039f"
            ],
            [
             0.2222222222222222,
             "#7201a8"
            ],
            [
             0.3333333333333333,
             "#9c179e"
            ],
            [
             0.4444444444444444,
             "#bd3786"
            ],
            [
             0.5555555555555556,
             "#d8576b"
            ],
            [
             0.6666666666666666,
             "#ed7953"
            ],
            [
             0.7777777777777778,
             "#fb9f3a"
            ],
            [
             0.8888888888888888,
             "#fdca26"
            ],
            [
             1,
             "#f0f921"
            ]
           ]
          },
          "colorway": [
           "#636efa",
           "#EF553B",
           "#00cc96",
           "#ab63fa",
           "#FFA15A",
           "#19d3f3",
           "#FF6692",
           "#B6E880",
           "#FF97FF",
           "#FECB52"
          ],
          "font": {
           "color": "#2a3f5f"
          },
          "geo": {
           "bgcolor": "white",
           "lakecolor": "white",
           "landcolor": "#E5ECF6",
           "showlakes": true,
           "showland": true,
           "subunitcolor": "white"
          },
          "hoverlabel": {
           "align": "left"
          },
          "hovermode": "closest",
          "mapbox": {
           "style": "light"
          },
          "paper_bgcolor": "white",
          "plot_bgcolor": "#E5ECF6",
          "polar": {
           "angularaxis": {
            "gridcolor": "white",
            "linecolor": "white",
            "ticks": ""
           },
           "bgcolor": "#E5ECF6",
           "radialaxis": {
            "gridcolor": "white",
            "linecolor": "white",
            "ticks": ""
           }
          },
          "scene": {
           "xaxis": {
            "backgroundcolor": "#E5ECF6",
            "gridcolor": "white",
            "gridwidth": 2,
            "linecolor": "white",
            "showbackground": true,
            "ticks": "",
            "zerolinecolor": "white"
           },
           "yaxis": {
            "backgroundcolor": "#E5ECF6",
            "gridcolor": "white",
            "gridwidth": 2,
            "linecolor": "white",
            "showbackground": true,
            "ticks": "",
            "zerolinecolor": "white"
           },
           "zaxis": {
            "backgroundcolor": "#E5ECF6",
            "gridcolor": "white",
            "gridwidth": 2,
            "linecolor": "white",
            "showbackground": true,
            "ticks": "",
            "zerolinecolor": "white"
           }
          },
          "shapedefaults": {
           "line": {
            "color": "#2a3f5f"
           }
          },
          "ternary": {
           "aaxis": {
            "gridcolor": "white",
            "linecolor": "white",
            "ticks": ""
           },
           "baxis": {
            "gridcolor": "white",
            "linecolor": "white",
            "ticks": ""
           },
           "bgcolor": "#E5ECF6",
           "caxis": {
            "gridcolor": "white",
            "linecolor": "white",
            "ticks": ""
           }
          },
          "title": {
           "x": 0.05
          },
          "xaxis": {
           "automargin": true,
           "gridcolor": "white",
           "linecolor": "white",
           "ticks": "",
           "title": {
            "standoff": 15
           },
           "zerolinecolor": "white",
           "zerolinewidth": 2
          },
          "yaxis": {
           "automargin": true,
           "gridcolor": "white",
           "linecolor": "white",
           "ticks": "",
           "title": {
            "standoff": 15
           },
           "zerolinecolor": "white",
           "zerolinewidth": 2
          }
         }
        },
        "title": {
         "text": "Covid-19 cases In singapore (01 March - 01 April ) "
        },
        "width": 1000,
        "xaxis": {
         "anchor": "y",
         "domain": [
          0,
          1
         ],
         "title": {
          "text": "Date"
         }
        },
        "yaxis": {
         "anchor": "x",
         "domain": [
          0,
          1
         ],
         "title": {
          "text": "Cases"
         }
        }
       }
      }
     },
     "metadata": {},
     "output_type": "display_data"
    }
   ],
   "source": [
    "import matplotlib as plt\n",
    "import seaborn as sns\n",
    "import pandas as pd\n",
    "import plotly.express as px\n",
    "import plotly.graph_objects as go\n",
    "\n",
    "fig = px.histogram(df,x='Date',y='Case'\n",
    "                    ,color='Status'\t  \n",
    "                    ,barmode='group'\n",
    "                    ,opacity=0.75\n",
    "                    ,text_auto=True\n",
    "                    ,width=1000,height=500\n",
    "                    ,title = 'Covid-19 cases In singapore (01 March - 01 April ) '\n",
    "                    # ,template=\"simple_white\"\n",
    "                )\n",
    "fig.update_layout(yaxis_title = 'Cases'\n",
    "                  ,xaxis_title = 'Date'\n",
    "                  ,legend=dict(\n",
    "                      title = 'Cases'\n",
    "                    )\n",
    "                )\n",
    "fig.update_traces(textangle=0\n",
    "                ,textposition='inside'\n",
    "                , textfont_size=13)\n",
    "# fig.update_layout(font_size = 13,\n",
    "#                 #   uniformtext_minsize=7,      \n",
    "#                   uniformtext_mode='hide')\n",
    "# fig.update_traces(textangle=0)\n",
    "fig.show()"
   ]
  }
 ],
 "metadata": {
  "interpreter": {
   "hash": "3eecf943f8fa3f0f4a51fc7db61a49f4780bd0c5ed537456c40c89d2f430a996"
  },
  "kernelspec": {
   "display_name": "Python 3.8.13 ('base')",
   "language": "python",
   "name": "python3"
  },
  "language_info": {
   "codemirror_mode": {
    "name": "ipython",
    "version": 3
   },
   "file_extension": ".py",
   "mimetype": "text/x-python",
   "name": "python",
   "nbconvert_exporter": "python",
   "pygments_lexer": "ipython3",
   "version": "3.8.13"
  },
  "orig_nbformat": 4
 },
 "nbformat": 4,
 "nbformat_minor": 2
}
